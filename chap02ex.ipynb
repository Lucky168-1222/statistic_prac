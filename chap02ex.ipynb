{
  "cells": [
    {
      "cell_type": "markdown",
      "metadata": {
        "id": "BwJm_tYeDPt6"
      },
      "source": [
        "# Chapter 2\n",
        "\n",
        "Examples and Exercises from Think Stats, 2nd Edition\n",
        "\n",
        "http://thinkstats2.com\n",
        "\n",
        "Copyright 2016 Allen B. Downey\n",
        "\n",
        "MIT License: https://opensource.org/licenses/MIT\n"
      ]
    },
    {
      "cell_type": "code",
      "execution_count": 1,
      "metadata": {
        "id": "vsOD0795DPt8"
      },
      "outputs": [],
      "source": [
        "import numpy as np"
      ]
    },
    {
      "cell_type": "code",
      "execution_count": 2,
      "metadata": {
        "colab": {
          "base_uri": "https://localhost:8080/"
        },
        "id": "snBSHPYWDPt9",
        "outputId": "8231178d-07fc-423f-c9a9-9c7a24d1165f"
      },
      "outputs": [
        {
          "output_type": "stream",
          "name": "stdout",
          "text": [
            "Downloaded thinkstats2.py\n",
            "Downloaded thinkplot.py\n"
          ]
        }
      ],
      "source": [
        "from os.path import basename, exists\n",
        "\n",
        "\n",
        "def download(url):\n",
        "    filename = basename(url)\n",
        "    if not exists(filename):\n",
        "        from urllib.request import urlretrieve\n",
        "\n",
        "        local, _ = urlretrieve(url, filename)\n",
        "        print(\"Downloaded \" + local)\n",
        "\n",
        "\n",
        "download(\"https://github.com/AllenDowney/ThinkStats2/raw/master/code/thinkstats2.py\")\n",
        "download(\"https://github.com/AllenDowney/ThinkStats2/raw/master/code/thinkplot.py\")"
      ]
    },
    {
      "cell_type": "markdown",
      "metadata": {
        "id": "4hVM-ckuDPt9"
      },
      "source": [
        "Given a list of values, there are several ways to count the frequency of each value."
      ]
    },
    {
      "cell_type": "code",
      "execution_count": 3,
      "metadata": {
        "id": "eDGVosKdDPt-"
      },
      "outputs": [],
      "source": [
        "t = [1, 2, 2, 3, 5]"
      ]
    },
    {
      "cell_type": "markdown",
      "metadata": {
        "id": "dTnTRvGRDPt-"
      },
      "source": [
        "You can use a Python dictionary:"
      ]
    },
    {
      "cell_type": "code",
      "execution_count": 4,
      "metadata": {
        "colab": {
          "base_uri": "https://localhost:8080/"
        },
        "id": "AzfQ3hWpDPt-",
        "outputId": "39d6dfad-8cf3-40e6-f912-d73331bf37c1"
      },
      "outputs": [
        {
          "output_type": "execute_result",
          "data": {
            "text/plain": [
              "{1: 1, 2: 2, 3: 1, 5: 1}"
            ]
          },
          "metadata": {},
          "execution_count": 4
        }
      ],
      "source": [
        "hist = {}\n",
        "for x in t:\n",
        "    hist[x] = hist.get(x, 0) + 1\n",
        "    \n",
        "hist"
      ]
    },
    {
      "cell_type": "markdown",
      "metadata": {
        "id": "cIQ61WTzDPt-"
      },
      "source": [
        "You can use a `Counter` (which is a dictionary with additional methods):"
      ]
    },
    {
      "cell_type": "code",
      "execution_count": 5,
      "metadata": {
        "colab": {
          "base_uri": "https://localhost:8080/"
        },
        "id": "rrcmet4uDPt_",
        "outputId": "67bbd21c-1f41-43b4-89da-bcaa4e606311"
      },
      "outputs": [
        {
          "output_type": "execute_result",
          "data": {
            "text/plain": [
              "Counter({1: 1, 2: 2, 3: 1, 5: 1})"
            ]
          },
          "metadata": {},
          "execution_count": 5
        }
      ],
      "source": [
        "from collections import Counter\n",
        "counter = Counter(t)\n",
        "counter"
      ]
    },
    {
      "cell_type": "markdown",
      "metadata": {
        "id": "HmQ_eRTPDPt_"
      },
      "source": [
        "Or you can use the `Hist` object provided by `thinkstats2`:"
      ]
    },
    {
      "cell_type": "code",
      "execution_count": 6,
      "metadata": {
        "colab": {
          "base_uri": "https://localhost:8080/"
        },
        "id": "ooCgoX5lDPt_",
        "outputId": "0bf7cadc-12fe-4975-e104-b90f5c3aef71"
      },
      "outputs": [
        {
          "output_type": "execute_result",
          "data": {
            "text/plain": [
              "Hist({1: 1, 2: 2, 3: 1, 5: 1})"
            ]
          },
          "metadata": {},
          "execution_count": 6
        }
      ],
      "source": [
        "import thinkstats2\n",
        "hist = thinkstats2.Hist([1, 2, 2, 3, 5])\n",
        "hist"
      ]
    },
    {
      "cell_type": "markdown",
      "metadata": {
        "id": "79DJ_kCvDPt_"
      },
      "source": [
        "`Hist` provides `Freq`, which looks up the frequency of a value."
      ]
    },
    {
      "cell_type": "code",
      "execution_count": 7,
      "metadata": {
        "colab": {
          "base_uri": "https://localhost:8080/"
        },
        "id": "0B-EVhEgDPuA",
        "outputId": "71da26bd-dd80-4a30-d953-88fc483b1a00"
      },
      "outputs": [
        {
          "output_type": "execute_result",
          "data": {
            "text/plain": [
              "2"
            ]
          },
          "metadata": {},
          "execution_count": 7
        }
      ],
      "source": [
        "hist.Freq(2)"
      ]
    },
    {
      "cell_type": "markdown",
      "metadata": {
        "id": "HQI4m6UoDPuA"
      },
      "source": [
        "You can also use the bracket operator, which does the same thing."
      ]
    },
    {
      "cell_type": "code",
      "execution_count": 8,
      "metadata": {
        "colab": {
          "base_uri": "https://localhost:8080/"
        },
        "id": "ov0UD0boDPuA",
        "outputId": "e996a990-62b1-48c1-e154-8042abbf3604"
      },
      "outputs": [
        {
          "output_type": "execute_result",
          "data": {
            "text/plain": [
              "2"
            ]
          },
          "metadata": {},
          "execution_count": 8
        }
      ],
      "source": [
        "hist[2]"
      ]
    },
    {
      "cell_type": "markdown",
      "metadata": {
        "id": "MWLIntASDPuA"
      },
      "source": [
        "If the value does not appear, it has frequency 0."
      ]
    },
    {
      "cell_type": "code",
      "execution_count": 9,
      "metadata": {
        "colab": {
          "base_uri": "https://localhost:8080/"
        },
        "id": "IpAA_mxaDPuA",
        "outputId": "d1dfbd34-8492-4f7a-e3f2-8a98ef6347f7"
      },
      "outputs": [
        {
          "output_type": "execute_result",
          "data": {
            "text/plain": [
              "0"
            ]
          },
          "metadata": {},
          "execution_count": 9
        }
      ],
      "source": [
        "hist[4]"
      ]
    },
    {
      "cell_type": "markdown",
      "metadata": {
        "id": "Yl2uXNJUDPuA"
      },
      "source": [
        "The `Values` method returns the values:"
      ]
    },
    {
      "cell_type": "code",
      "execution_count": 10,
      "metadata": {
        "colab": {
          "base_uri": "https://localhost:8080/"
        },
        "id": "hbhdWqIQDPuA",
        "outputId": "f7e26a30-1b28-43b3-a7d5-4a69ccb2320b"
      },
      "outputs": [
        {
          "output_type": "execute_result",
          "data": {
            "text/plain": [
              "dict_keys([1, 2, 3, 5])"
            ]
          },
          "metadata": {},
          "execution_count": 10
        }
      ],
      "source": [
        "hist.Values()"
      ]
    },
    {
      "cell_type": "markdown",
      "metadata": {
        "id": "br-e5lMZDPuB"
      },
      "source": [
        "So you can iterate the values and their frequencies like this:"
      ]
    },
    {
      "cell_type": "code",
      "execution_count": 11,
      "metadata": {
        "colab": {
          "base_uri": "https://localhost:8080/"
        },
        "id": "uCumZ9IMDPuB",
        "outputId": "865dcb92-e505-40e9-821d-cf20cd2389c8"
      },
      "outputs": [
        {
          "output_type": "stream",
          "name": "stdout",
          "text": [
            "1 1\n",
            "2 2\n",
            "3 1\n",
            "5 1\n"
          ]
        }
      ],
      "source": [
        "for val in sorted(hist.Values()):\n",
        "    print(val, hist[val])"
      ]
    },
    {
      "cell_type": "markdown",
      "metadata": {
        "id": "rPM2LMnDDPuB"
      },
      "source": [
        "Or you can use the `Items` method:"
      ]
    },
    {
      "cell_type": "code",
      "execution_count": 12,
      "metadata": {
        "colab": {
          "base_uri": "https://localhost:8080/"
        },
        "id": "V3cLc3yODPuB",
        "outputId": "6ebf5a80-5a2e-4d41-ef2c-6081a3eb5b25"
      },
      "outputs": [
        {
          "output_type": "stream",
          "name": "stdout",
          "text": [
            "1 1\n",
            "2 2\n",
            "3 1\n",
            "5 1\n"
          ]
        }
      ],
      "source": [
        "for val, freq in hist.Items():\n",
        "     print(val, freq)"
      ]
    },
    {
      "cell_type": "markdown",
      "metadata": {
        "id": "mslEGuZoDPuB"
      },
      "source": [
        "`thinkplot` is a wrapper for `matplotlib` that provides functions that work with the objects in `thinkstats2`.\n",
        "\n",
        "For example `Hist` plots the values and their frequencies as a bar graph.\n",
        "\n",
        "`Config` takes parameters that label the x and y axes, among other things."
      ]
    },
    {
      "cell_type": "code",
      "execution_count": 13,
      "metadata": {
        "colab": {
          "base_uri": "https://localhost:8080/",
          "height": 449
        },
        "id": "nYQ83QzADPuB",
        "outputId": "06b411b6-f305-4be2-98c8-ee8ae6347714"
      },
      "outputs": [
        {
          "output_type": "display_data",
          "data": {
            "text/plain": [
              "<Figure size 640x480 with 1 Axes>"
            ],
            "image/png": "[encoded data removed]"
          },
          "metadata": {}
        }
      ],
      "source": [
        "import thinkplot\n",
        "thinkplot.Hist(hist)\n",
        "thinkplot.Config(xlabel='value', ylabel='frequency')"
      ]
    },
    {
      "cell_type": "markdown",
      "metadata": {
        "id": "34DVaLt5DPuB"
      },
      "source": [
        "As an example, I'll replicate some of the figures from the book.\n",
        "\n",
        "First, I'll load the data from the pregnancy file and select the records for live births."
      ]
    },
    {
      "cell_type": "code",
      "execution_count": 14,
      "metadata": {
        "colab": {
          "base_uri": "https://localhost:8080/"
        },
        "id": "PHL34oBxDPuB",
        "outputId": "1768a105-7d30-4af8-939a-7644b6f3d157"
      },
      "outputs": [
        {
          "output_type": "stream",
          "name": "stdout",
          "text": [
            "Downloaded nsfg.py\n",
            "Downloaded 2002FemPreg.dct\n",
            "Downloaded 2002FemPreg.dat.gz\n"
          ]
        }
      ],
      "source": [
        "download(\"https://github.com/AllenDowney/ThinkStats2/raw/master/code/nsfg.py\")\n",
        "\n",
        "download(\"https://github.com/AllenDowney/ThinkStats2/raw/master/code/2002FemPreg.dct\")\n",
        "download(\n",
        "    \"https://github.com/AllenDowney/ThinkStats2/raw/master/code/2002FemPreg.dat.gz\"\n",
        ")"
      ]
    },
    {
      "cell_type": "code",
      "execution_count": 15,
      "metadata": {
        "id": "0WDkQbUXDPuC"
      },
      "outputs": [],
      "source": [
        "import nsfg"
      ]
    },
    {
      "cell_type": "code",
      "execution_count": 16,
      "metadata": {
        "id": "c-VMUqdzDPuC"
      },
      "outputs": [],
      "source": [
        "preg = nsfg.ReadFemPreg()\n",
        "live = preg[preg.outcome == 1]"
      ]
    },
    {
      "cell_type": "markdown",
      "metadata": {
        "id": "Fl6aC6A2DPuC"
      },
      "source": [
        "Here's the histogram of birth weights in pounds.  Notice that `Hist` works with anything iterable, including a Pandas Series.  The `label` attribute appears in the legend when you plot the `Hist`. "
      ]
    },
    {
      "cell_type": "code",
      "execution_count": 17,
      "metadata": {
        "colab": {
          "base_uri": "https://localhost:8080/",
          "height": 449
        },
        "id": "4M7ABWY4DPuC",
        "outputId": "a9e46b16-99b3-4506-d7f0-a071e6b22a8d"
      },
      "outputs": [
        {
          "output_type": "display_data",
          "data": {
            "text/plain": [
              "<Figure size 640x480 with 1 Axes>"
            ],
            "image/png": "[encoded data removed]"
          },
          "metadata": {}
        }
      ],
      "source": [
        "hist = thinkstats2.Hist(live.birthwgt_lb, label='birthwgt_lb')\n",
        "thinkplot.Hist(hist)\n",
        "thinkplot.Config(xlabel='Birth weight (pounds)', ylabel='Count')"
      ]
    },
    {
      "cell_type": "markdown",
      "metadata": {
        "id": "-7w-_2F7DPuC"
      },
      "source": [
        "Before plotting the ages, I'll apply `floor` to round down:"
      ]
    },
    {
      "cell_type": "code",
      "execution_count": 18,
      "metadata": {
        "id": "hH9NFJuhDPuC"
      },
      "outputs": [],
      "source": [
        "ages = np.floor(live.agepreg)"
      ]
    },
    {
      "cell_type": "code",
      "execution_count": 19,
      "metadata": {
        "colab": {
          "base_uri": "https://localhost:8080/",
          "height": 449
        },
        "id": "19e5E-8tDPuC",
        "outputId": "fb2ddfba-b98c-4f04-f2ee-793195f10735"
      },
      "outputs": [
        {
          "output_type": "display_data",
          "data": {
            "text/plain": [
              "<Figure size 640x480 with 1 Axes>"
            ],
            "image/png": "[encoded data removed]"
          },
          "metadata": {}
        }
      ],
      "source": [
        "hist = thinkstats2.Hist(ages, label='agepreg')\n",
        "thinkplot.Hist(hist)\n",
        "thinkplot.Config(xlabel='years', ylabel='Count')"
      ]
    },
    {
      "cell_type": "markdown",
      "metadata": {
        "id": "DoZ0RpsBDPuC"
      },
      "source": [
        "As an exercise, plot the histogram of pregnancy lengths (column `prglngth`)."
      ]
    },
    {
      "cell_type": "code",
      "execution_count": 20,
      "metadata": {
        "colab": {
          "base_uri": "https://localhost:8080/",
          "height": 449
        },
        "id": "G8fBIz_jDPuC",
        "outputId": "26e5d426-cb64-4595-f820-496cba10e619"
      },
      "outputs": [
        {
          "output_type": "display_data",
          "data": {
            "text/plain": [
              "<Figure size 640x480 with 1 Axes>"
            ],
            "image/png": "[encoded data removed]"
          },
          "metadata": {}
        }
      ],
      "source": [
        "hist = thinkstats2.Hist(live.prglngth, label='prglngth')\n",
        "thinkplot.Hist(hist)\n",
        "thinkplot.Config(xlabel='pregnancy lengths (weeks)', ylabel='Count')"
      ]
    },
    {
      "cell_type": "markdown",
      "metadata": {
        "id": "QKt8kgAKDPuD"
      },
      "source": [
        "`Hist` provides smallest, which select the lowest values and their frequencies."
      ]
    },
    {
      "cell_type": "code",
      "execution_count": 21,
      "metadata": {
        "colab": {
          "base_uri": "https://localhost:8080/"
        },
        "id": "0m315ezTDPuD",
        "outputId": "b4bbb89c-28b0-4d03-d4f1-852fac39acec"
      },
      "outputs": [
        {
          "output_type": "stream",
          "name": "stdout",
          "text": [
            "0 1\n",
            "4 1\n",
            "9 1\n",
            "13 1\n",
            "17 2\n",
            "18 1\n",
            "19 1\n",
            "20 1\n",
            "21 2\n",
            "22 7\n"
          ]
        }
      ],
      "source": [
        "for weeks, freq in hist.Smallest(10):\n",
        "    print(weeks, freq)"
      ]
    },
    {
      "cell_type": "markdown",
      "metadata": {
        "id": "9ge766xBDPuD"
      },
      "source": [
        "Use `Largest` to display the longest pregnancy lengths."
      ]
    },
    {
      "cell_type": "code",
      "execution_count": 22,
      "metadata": {
        "colab": {
          "base_uri": "https://localhost:8080/"
        },
        "id": "W9MgvcX7DPuD",
        "outputId": "c3fa5be9-57a3-4e4a-e124-552ab5f30f24"
      },
      "outputs": [
        {
          "output_type": "stream",
          "name": "stdout",
          "text": [
            "50 2\n",
            "48 7\n",
            "47 1\n",
            "46 1\n",
            "45 10\n",
            "44 46\n",
            "43 148\n",
            "42 328\n",
            "41 587\n",
            "40 1116\n"
          ]
        }
      ],
      "source": [
        "for weeks, freq in hist.Largest(10):\n",
        "  print(weeks, freq)"
      ]
    },
    {
      "cell_type": "markdown",
      "metadata": {
        "id": "-AXzXVJQDPuD"
      },
      "source": [
        "From live births, we can select first babies and others using `birthord`, then compute histograms of pregnancy length for the two groups."
      ]
    },
    {
      "cell_type": "code",
      "execution_count": 23,
      "metadata": {
        "id": "lOzLlVHCDPuD"
      },
      "outputs": [],
      "source": [
        "firsts = live[live.birthord == 1]\n",
        "others = live[live.birthord != 1]\n",
        "\n",
        "first_hist = thinkstats2.Hist(firsts.prglngth, label='first')\n",
        "other_hist = thinkstats2.Hist(others.prglngth, label='other')"
      ]
    },
    {
      "cell_type": "markdown",
      "metadata": {
        "id": "r0AzwZMPDPuD"
      },
      "source": [
        "We can use `width` and `align` to plot two histograms side-by-side."
      ]
    },
    {
      "cell_type": "code",
      "execution_count": 24,
      "metadata": {
        "colab": {
          "base_uri": "https://localhost:8080/",
          "height": 449
        },
        "id": "rvJXw0qRDPuD",
        "outputId": "449c2bb5-b939-404d-8793-853dda3c461b"
      },
      "outputs": [
        {
          "output_type": "display_data",
          "data": {
            "text/plain": [
              "<Figure size 640x480 with 1 Axes>"
            ],
            "image/png": "[encoded data removed]"
          },
          "metadata": {}
        }
      ],
      "source": [
        "width = 0.45\n",
        "thinkplot.PrePlot(2)\n",
        "thinkplot.Hist(first_hist, align='right', width=width)\n",
        "thinkplot.Hist(other_hist, align='left', width=width)\n",
        "thinkplot.Config(xlabel='weeks', ylabel='Count', xlim=[27, 46])"
      ]
    },
    {
      "cell_type": "markdown",
      "metadata": {
        "id": "8hH-S-pNDPuD"
      },
      "source": [
        "`Series` provides methods to compute summary statistics:"
      ]
    },
    {
      "cell_type": "code",
      "execution_count": 25,
      "metadata": {
        "id": "p7doQ6F5DPuD"
      },
      "outputs": [],
      "source": [
        "mean = live.prglngth.mean()\n",
        "var = live.prglngth.var()\n",
        "std = live.prglngth.std()"
      ]
    },
    {
      "cell_type": "markdown",
      "metadata": {
        "id": "gl8m5LflDPuE"
      },
      "source": [
        "Here are the mean and standard deviation:"
      ]
    },
    {
      "cell_type": "code",
      "execution_count": 26,
      "metadata": {
        "colab": {
          "base_uri": "https://localhost:8080/"
        },
        "id": "drvGPkhpDPuE",
        "outputId": "a7281d08-a729-4bbd-a24d-fbf800db7e1c"
      },
      "outputs": [
        {
          "output_type": "execute_result",
          "data": {
            "text/plain": [
              "(38.56055968517709, 2.702343810070587)"
            ]
          },
          "metadata": {},
          "execution_count": 26
        }
      ],
      "source": [
        "mean, std"
      ]
    },
    {
      "cell_type": "markdown",
      "metadata": {
        "id": "J8ZeXMLEDPuE"
      },
      "source": [
        "As an exercise, confirm that `std` is the square root of `var`:"
      ]
    },
    {
      "cell_type": "code",
      "execution_count": 28,
      "metadata": {
        "colab": {
          "base_uri": "https://localhost:8080/"
        },
        "id": "C2hof7ifDPuE",
        "outputId": "c98b913f-f949-4718-c685-f89cbeeff31c"
      },
      "outputs": [
        {
          "output_type": "execute_result",
          "data": {
            "text/plain": [
              "2.702343810070587"
            ]
          },
          "metadata": {},
          "execution_count": 28
        }
      ],
      "source": [
        "np.sqrt(var)"
      ]
    },
    {
      "cell_type": "markdown",
      "metadata": {
        "id": "5ihGjNSuDPuE"
      },
      "source": [
        "Here's are the mean pregnancy lengths for first babies and others:"
      ]
    },
    {
      "cell_type": "code",
      "execution_count": 29,
      "metadata": {
        "colab": {
          "base_uri": "https://localhost:8080/"
        },
        "id": "NWpfWa5lDPuE",
        "outputId": "ed79a880-6bcb-4ed4-cd57-d536e4885621"
      },
      "outputs": [
        {
          "output_type": "execute_result",
          "data": {
            "text/plain": [
              "(38.60095173351461, 38.52291446673706)"
            ]
          },
          "metadata": {},
          "execution_count": 29
        }
      ],
      "source": [
        "firsts.prglngth.mean(), others.prglngth.mean()"
      ]
    },
    {
      "cell_type": "markdown",
      "metadata": {
        "id": "imAPNF5GDPuE"
      },
      "source": [
        "And here's the difference (in weeks):"
      ]
    },
    {
      "cell_type": "code",
      "execution_count": 30,
      "metadata": {
        "colab": {
          "base_uri": "https://localhost:8080/"
        },
        "id": "Yd6-MnIADPuE",
        "outputId": "526e8b01-31eb-4ab7-b805-8b4a5ac9841f"
      },
      "outputs": [
        {
          "output_type": "execute_result",
          "data": {
            "text/plain": [
              "0.07803726677754952"
            ]
          },
          "metadata": {},
          "execution_count": 30
        }
      ],
      "source": [
        "firsts.prglngth.mean() - others.prglngth.mean()"
      ]
    },
    {
      "cell_type": "markdown",
      "metadata": {
        "id": "ICNqaKymDPuE"
      },
      "source": [
        "This functon computes the Cohen effect size, which is the difference in means expressed in number of standard deviations:"
      ]
    },
    {
      "cell_type": "code",
      "execution_count": 31,
      "metadata": {
        "id": "r4zbzhhHDPuE"
      },
      "outputs": [],
      "source": [
        "def CohenEffectSize(group1, group2):\n",
        "    \"\"\"Computes Cohen's effect size for two groups.\n",
        "    \n",
        "    group1: Series or DataFrame\n",
        "    group2: Series or DataFrame\n",
        "    \n",
        "    returns: float if the arguments are Series;\n",
        "             Series if the arguments are DataFrames\n",
        "    \"\"\"\n",
        "    diff = group1.mean() - group2.mean()\n",
        "\n",
        "    var1 = group1.var()\n",
        "    var2 = group2.var()\n",
        "    n1, n2 = len(group1), len(group2)\n",
        "\n",
        "    pooled_var = (n1 * var1 + n2 * var2) / (n1 + n2)\n",
        "    d = diff / np.sqrt(pooled_var)\n",
        "    return d"
      ]
    },
    {
      "cell_type": "markdown",
      "metadata": {
        "id": "zBPnXb3TDPuF"
      },
      "source": [
        "Compute the Cohen effect size for the difference in pregnancy length for first babies and others."
      ]
    },
    {
      "cell_type": "code",
      "execution_count": 33,
      "metadata": {
        "colab": {
          "base_uri": "https://localhost:8080/"
        },
        "id": "BJ0iKFbiDPuF",
        "outputId": "92942cf8-fc82-4c25-9f3d-16faf71a30b1"
      },
      "outputs": [
        {
          "output_type": "execute_result",
          "data": {
            "text/plain": [
              "0.028879044654449834"
            ]
          },
          "metadata": {},
          "execution_count": 33
        }
      ],
      "source": [
        "CohenEffectSize(firsts.prglngth, others.prglngth)"
      ]
    },
    {
      "cell_type": "markdown",
      "metadata": {
        "collapsed": true,
        "id": "sXtJq_IUDPuF"
      },
      "source": [
        "## Exercises"
      ]
    },
    {
      "cell_type": "markdown",
      "metadata": {
        "id": "tWigMydKDPuF"
      },
      "source": [
        "Using the variable `totalwgt_lb`, investigate whether first babies are lighter or heavier than others. \n",
        "\n",
        "Compute Cohen’s effect size to quantify the difference between the groups.  How does it compare to the difference in pregnancy length?"
      ]
    },
    {
      "cell_type": "code",
      "execution_count": 34,
      "metadata": {
        "colab": {
          "base_uri": "https://localhost:8080/",
          "height": 449
        },
        "id": "7nu--BvzDPuF",
        "outputId": "12009edc-9edd-45ec-d67a-eaae29263c14"
      },
      "outputs": [
        {
          "output_type": "display_data",
          "data": {
            "text/plain": [
              "<Figure size 640x480 with 1 Axes>"
            ],
            "image/png": "[encoded data removed]"
          },
          "metadata": {}
        }
      ],
      "source": [
        "first_hist = thinkstats2.Hist(firsts.totalwgt_lb, label='first')\n",
        "other_hist = thinkstats2.Hist(others.totalwgt_lb, label='other')\n",
        "\n",
        "width = 0.45\n",
        "thinkplot.PrePlot(2)\n",
        "thinkplot.Hist(first_hist, align='right', width=width)\n",
        "thinkplot.Hist(other_hist, align='left', width=width)\n",
        "thinkplot.Config(xlabel='weeks', ylabel='Count')"
      ]
    },
    {
      "cell_type": "code",
      "execution_count": 35,
      "metadata": {
        "colab": {
          "base_uri": "https://localhost:8080/"
        },
        "id": "vSPbqwTiDPuF",
        "outputId": "46968ab7-f602-4fe3-e223-1f03a07340e6"
      },
      "outputs": [
        {
          "output_type": "execute_result",
          "data": {
            "text/plain": [
              "-0.08867292707260174"
            ]
          },
          "metadata": {},
          "execution_count": 35
        }
      ],
      "source": [
        "CohenEffectSize(firsts.totalwgt_lb, others.totalwgt_lb)"
      ]
    },
    {
      "cell_type": "code",
      "source": [
        "firsts.totalwgt_lb.mean(),others.totalwgt_lb.mean()"
      ],
      "metadata": {
        "colab": {
          "base_uri": "https://localhost:8080/"
        },
        "id": "RNeknO3xJTil",
        "outputId": "ee416f48-2dd1-4663-eeae-f4de3bf3b0fe"
      },
      "execution_count": 36,
      "outputs": [
        {
          "output_type": "execute_result",
          "data": {
            "text/plain": [
              "(7.201094430437772, 7.325855614973262)"
            ]
          },
          "metadata": {},
          "execution_count": 36
        }
      ]
    },
    {
      "cell_type": "markdown",
      "metadata": {
        "id": "ENP80TtyDPuF"
      },
      "source": [
        "For the next few exercises, we'll load the respondent file:"
      ]
    },
    {
      "cell_type": "code",
      "execution_count": 37,
      "metadata": {
        "colab": {
          "base_uri": "https://localhost:8080/"
        },
        "id": "JJrtx72hDPuF",
        "outputId": "1660a761-f936-4a1b-cdd6-f6580d231011"
      },
      "outputs": [
        {
          "output_type": "stream",
          "name": "stdout",
          "text": [
            "Downloaded 2002FemResp.dct\n",
            "Downloaded 2002FemResp.dat.gz\n"
          ]
        }
      ],
      "source": [
        "download(\"https://github.com/AllenDowney/ThinkStats2/raw/master/code/2002FemResp.dct\")\n",
        "download(\"https://github.com/AllenDowney/ThinkStats2/raw/master/code/2002FemResp.dat.gz\")"
      ]
    },
    {
      "cell_type": "code",
      "execution_count": 38,
      "metadata": {
        "id": "gwwbeU4SDPuG"
      },
      "outputs": [],
      "source": [
        "resp = nsfg.ReadFemResp()"
      ]
    },
    {
      "cell_type": "markdown",
      "metadata": {
        "id": "cjTqhpcRDPuG"
      },
      "source": [
        "Make a histogram of <tt>totincr</tt> the total income for the respondent's family.  To interpret the codes see the [codebook](ftp://ftp.cdc.gov/pub/Health_Statistics/NCHS/Dataset_Documentation/NSFG/Cycle6Codebook-Pregnancy.pdf)."
      ]
    },
    {
      "cell_type": "code",
      "execution_count": 39,
      "metadata": {
        "colab": {
          "base_uri": "https://localhost:8080/",
          "height": 449
        },
        "id": "rKGnebo4DPuG",
        "outputId": "41c08d31-f3db-4009-eba4-2e5084fd57af"
      },
      "outputs": [
        {
          "output_type": "display_data",
          "data": {
            "text/plain": [
              "<Figure size 640x480 with 1 Axes>"
            ],
            "image/png": "[encoded data removed]"
          },
          "metadata": {}
        }
      ],
      "source": [
        "hist = thinkstats2.Hist(resp.totincr, label='totincr')\n",
        "thinkplot.Hist(hist)\n",
        "thinkplot.Config(xlabel='income (category)', ylabel='Count')"
      ]
    },
    {
      "cell_type": "markdown",
      "metadata": {
        "id": "c_5wkP6KDPuG"
      },
      "source": [
        "Make a histogram of <tt>age_r</tt>, the respondent's age at the time of interview."
      ]
    },
    {
      "cell_type": "code",
      "execution_count": 40,
      "metadata": {
        "colab": {
          "base_uri": "https://localhost:8080/",
          "height": 450
        },
        "id": "rfJ6xcNBDPuG",
        "outputId": "168a75a3-646f-4b22-bf8c-e94b67c44fd3"
      },
      "outputs": [
        {
          "output_type": "display_data",
          "data": {
            "text/plain": [
              "<Figure size 640x480 with 1 Axes>"
            ],
            "image/png": "[encoded data removed]"
          },
          "metadata": {}
        }
      ],
      "source": [
        "hist = thinkstats2.Hist(resp.age_r, label='age_r')\n",
        "thinkplot.Hist(hist)\n",
        "thinkplot.Config(xlabel='age_r (years)', ylabel='Count')"
      ]
    },
    {
      "cell_type": "markdown",
      "metadata": {
        "id": "eBuaWDmODPuG"
      },
      "source": [
        "Make a histogram of <tt>numfmhh</tt>, the number of people in the respondent's household."
      ]
    },
    {
      "cell_type": "code",
      "execution_count": 41,
      "metadata": {
        "colab": {
          "base_uri": "https://localhost:8080/",
          "height": 449
        },
        "id": "r8IGRgWbDPuG",
        "outputId": "04bc51df-4b3d-43e7-db17-3ae0e6b5ba40"
      },
      "outputs": [
        {
          "output_type": "display_data",
          "data": {
            "text/plain": [
              "<Figure size 640x480 with 1 Axes>"
            ],
            "image/png": "[encoded data removed]"
          },
          "metadata": {}
        }
      ],
      "source": [
        "hist = thinkstats2.Hist(resp.numfmhh, label='numfmhh')\n",
        "thinkplot.Hist(hist)\n",
        "thinkplot.Config(xlabel='numfmhh (numbers)', ylabel='Count')"
      ]
    },
    {
      "cell_type": "markdown",
      "metadata": {
        "id": "g8kCzy8tDPuG"
      },
      "source": [
        "Make a histogram of <tt>parity</tt>, the number of children borne by the respondent.  How would you describe this distribution?"
      ]
    },
    {
      "cell_type": "code",
      "execution_count": 42,
      "metadata": {
        "colab": {
          "base_uri": "https://localhost:8080/",
          "height": 449
        },
        "id": "ODVuy1SDDPuG",
        "outputId": "a83c122d-8186-4635-cac2-ec6c8c738f7a"
      },
      "outputs": [
        {
          "output_type": "display_data",
          "data": {
            "text/plain": [
              "<Figure size 640x480 with 1 Axes>"
            ],
            "image/png": "[encoded data removed]"
          },
          "metadata": {}
        }
      ],
      "source": [
        "hist = thinkstats2.Hist(resp.parity, label='parity')\n",
        "thinkplot.Hist(hist)\n",
        "thinkplot.Config(xlabel='parity (numbers)', ylabel='Count')"
      ]
    },
    {
      "cell_type": "markdown",
      "metadata": {
        "id": "s0jgXu26DPuG"
      },
      "source": [
        "Use Hist.Largest to find the largest values of <tt>parity</tt>."
      ]
    },
    {
      "cell_type": "code",
      "execution_count": 45,
      "metadata": {
        "colab": {
          "base_uri": "https://localhost:8080/"
        },
        "id": "PBwm8okaDPuG",
        "outputId": "3fbb15cd-78cc-4aa0-bc75-e14608ef40d7"
      },
      "outputs": [
        {
          "output_type": "execute_result",
          "data": {
            "text/plain": [
              "[(22, 1),\n",
              " (16, 1),\n",
              " (10, 3),\n",
              " (9, 2),\n",
              " (8, 8),\n",
              " (7, 15),\n",
              " (6, 29),\n",
              " (5, 95),\n",
              " (4, 309),\n",
              " (3, 828)]"
            ]
          },
          "metadata": {},
          "execution_count": 45
        }
      ],
      "source": [
        "Hist = thinkstats2.Hist(resp.parity, label='parity')\n",
        "Hist.Largest()"
      ]
    },
    {
      "cell_type": "markdown",
      "metadata": {
        "id": "nuQTgZ6HDPuG"
      },
      "source": [
        "Let's investigate whether people with higher income have higher parity.  Keep in mind that in this study, we are observing different people at different times during their lives, so this data is not the best choice for answering this question.  But for now let's take it at face value.\n",
        "\n",
        "Use <tt>totincr</tt> to select the respondents with the highest income (level 14).  Plot the histogram of <tt>parity</tt> for just the high income respondents."
      ]
    },
    {
      "cell_type": "code",
      "execution_count": 47,
      "metadata": {
        "colab": {
          "base_uri": "https://localhost:8080/",
          "height": 449
        },
        "id": "5dh5PWjcDPuH",
        "outputId": "ff5bb52d-e53b-4930-9ec5-03dfe7301614"
      },
      "outputs": [
        {
          "output_type": "display_data",
          "data": {
            "text/plain": [
              "<Figure size 640x480 with 1 Axes>"
            ],
            "image/png": "[encoded data removed]"
          },
          "metadata": {}
        }
      ],
      "source": [
        "totincr = resp[resp.totincr == 14]\n",
        "hist = thinkstats2.Hist(totincr.parity, label='parity')\n",
        "thinkplot.Hist(hist)\n",
        "thinkplot.Config(xlabel='parity (numbers)', ylabel='Count')"
      ]
    },
    {
      "cell_type": "markdown",
      "metadata": {
        "id": "K8Gqx83sDPuH"
      },
      "source": [
        "Find the largest parities for high income respondents."
      ]
    },
    {
      "cell_type": "code",
      "execution_count": 48,
      "metadata": {
        "colab": {
          "base_uri": "https://localhost:8080/"
        },
        "id": "OJCYiyhbDPuH",
        "outputId": "978d4659-fe07-4d68-d778-b085fb712c4f"
      },
      "outputs": [
        {
          "output_type": "execute_result",
          "data": {
            "text/plain": [
              "[(8, 1), (7, 1), (5, 5), (4, 19), (3, 123), (2, 267), (1, 229), (0, 515)]"
            ]
          },
          "metadata": {},
          "execution_count": 48
        }
      ],
      "source": [
        "hist = thinkstats2.Hist(totincr.parity, label='parity')\n",
        "hist.Largest()"
      ]
    },
    {
      "cell_type": "markdown",
      "metadata": {
        "id": "cFUXtLwBDPuH"
      },
      "source": [
        "Compare the mean <tt>parity</tt> for high income respondents and others."
      ]
    },
    {
      "cell_type": "code",
      "execution_count": 49,
      "metadata": {
        "colab": {
          "base_uri": "https://localhost:8080/"
        },
        "id": "mpdouIa6DPuH",
        "outputId": "96cb9178-193c-460c-d016-2b182910cc0a"
      },
      "outputs": [
        {
          "output_type": "execute_result",
          "data": {
            "text/plain": [
              "(1.0758620689655172, 1.2495758136665125)"
            ]
          },
          "metadata": {},
          "execution_count": 49
        }
      ],
      "source": [
        "high = resp[resp.totincr == 14]\n",
        "others = resp[resp.totincr != 14]\n",
        "high.parity.mean(),others.parity.mean()"
      ]
    },
    {
      "cell_type": "markdown",
      "metadata": {
        "id": "pfgwf1cxDPuH"
      },
      "source": [
        "Compute the Cohen effect size for this difference.  How does it compare with the difference in pregnancy length for first babies and others?"
      ]
    },
    {
      "cell_type": "code",
      "execution_count": 50,
      "metadata": {
        "colab": {
          "base_uri": "https://localhost:8080/"
        },
        "id": "MgvWY36iDPuH",
        "outputId": "168f979d-76a4-4cad-9460-502840642e35"
      },
      "outputs": [
        {
          "output_type": "execute_result",
          "data": {
            "text/plain": [
              "-0.12511855314660367"
            ]
          },
          "metadata": {},
          "execution_count": 50
        }
      ],
      "source": [
        "CohenEffectSize(high.parity,others.parity)"
      ]
    },
    {
      "cell_type": "code",
      "execution_count": null,
      "metadata": {
        "id": "c11yV3xvDPuH"
      },
      "outputs": [],
      "source": []
    }
  ],
  "metadata": {
    "kernelspec": {
      "display_name": "Python 3 (ipykernel)",
      "language": "python",
      "name": "python3"
    },
    "language_info": {
      "codemirror_mode": {
        "name": "ipython",
        "version": 3
      },
      "file_extension": ".py",
      "mimetype": "text/x-python",
      "name": "python",
      "nbconvert_exporter": "python",
      "pygments_lexer": "ipython3",
      "version": "3.7.11"
    },
    "colab": {
      "provenance": []
    }
  },
  "nbformat": 4,
  "nbformat_minor": 0
}